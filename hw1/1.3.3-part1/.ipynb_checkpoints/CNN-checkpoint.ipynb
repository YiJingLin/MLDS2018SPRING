{
 "cells": [
  {
   "cell_type": "markdown",
   "metadata": {},
   "source": [
    "## target\n",
    "task : img classification\n",
    "\n",
    "data : MNIST"
   ]
  },
  {
   "cell_type": "code",
   "execution_count": 1,
   "metadata": {
    "collapsed": true
   },
   "outputs": [],
   "source": [
    "import torch\n",
    "import torch.nn as nn\n",
    "from torch.autograd import Variable\n",
    "import torch.utils.data as Data\n",
    "import torchvision\n",
    "\n",
    "import matplotlib.pyplot as plt"
   ]
  },
  {
   "cell_type": "code",
   "execution_count": 2,
   "metadata": {
    "collapsed": true
   },
   "outputs": [],
   "source": [
    "# Hyper parameters\n",
    "EPOCH = 10\n",
    "BATCH_SIZE = 500\n",
    "LR = 0.01\n",
    "DOWNLOAD_MNIST = True # 請求下載"
   ]
  },
  {
   "cell_type": "markdown",
   "metadata": {},
   "source": [
    "## train data"
   ]
  },
  {
   "cell_type": "code",
   "execution_count": 3,
   "metadata": {},
   "outputs": [],
   "source": [
    "# download data\n",
    "train_data = torchvision.datasets.MNIST(\n",
    "    root = './mnist',\n",
    "    train=True, # is training data\n",
    "    transform=torchvision.transforms.ToTensor(), # trans from numpy.ary to torch Tensor\n",
    "    download = DOWNLOAD_MNIST,\n",
    ")"
   ]
  },
  {
   "cell_type": "code",
   "execution_count": 4,
   "metadata": {},
   "outputs": [
    {
     "name": "stdout",
     "output_type": "stream",
     "text": [
      "torch.Size([60000, 28, 28])\n",
      "torch.Size([60000])\n"
     ]
    },
    {
     "data": {
      "image/png": "[encoded data removed]",
      "text/plain": [
       "<Figure size 432x288 with 1 Axes>"
      ]
     },
     "metadata": {},
     "output_type": "display_data"
    }
   ],
   "source": [
    "#plot one example\n",
    "print(train_data.train_data.size())\n",
    "print(train_data.train_labels.size())\n",
    "\n",
    "plt.imshow(train_data.train_data[0].numpy(), cmap='gray')\n",
    "plt.title('%i' % train_data.train_labels[0])\n",
    "plt.show()"
   ]
  },
  {
   "cell_type": "code",
   "execution_count": 5,
   "metadata": {
    "collapsed": true
   },
   "outputs": [],
   "source": [
    "train_loader = Data.DataLoader(dataset=train_data, batch_size=BATCH_SIZE, shuffle=True, num_workers=2)"
   ]
  },
  {
   "cell_type": "markdown",
   "metadata": {},
   "source": [
    "# test data"
   ]
  },
  {
   "cell_type": "code",
   "execution_count": 6,
   "metadata": {},
   "outputs": [
    {
     "data": {
      "text/plain": [
       "10000"
      ]
     },
     "execution_count": 6,
     "metadata": {},
     "output_type": "execute_result"
    }
   ],
   "source": [
    "test_data = torchvision.datasets.MNIST(root='./mnist', train=False)\n",
    "len(test_data)"
   ]
  },
  {
   "cell_type": "code",
   "execution_count": 7,
   "metadata": {
    "collapsed": true
   },
   "outputs": [],
   "source": [
    "test_x = Variable(torch.unsqueeze(test_data.test_data, dim=1), volatile=True).type(torch.FloatTensor)\n",
    "test_x = test_x[:2000]/255.\n",
    "\n",
    "test_y = test_data.test_labels[:2000]"
   ]
  },
  {
   "cell_type": "markdown",
   "metadata": {},
   "source": [
    "## build CNN"
   ]
  },
  {
   "cell_type": "code",
   "execution_count": 8,
   "metadata": {
    "collapsed": true
   },
   "outputs": [],
   "source": [
    "class CNN(nn.Module):\n",
    "    def __init__(self):\n",
    "        super(CNN, self).__init__()\n",
    "        self.conv1 = nn.Sequential(# input size(1,28,28)\n",
    "            nn.Conv2d( \n",
    "                in_channels = 1, # gray(if RGB, then in_channel=3)\n",
    "                out_channels = 16, # num_filter\n",
    "                kernel_size=5, # filter's height and width = 5\n",
    "                stride=1, # shift 1 distance each time\n",
    "                padding=2, # if stride=1, padding=(kernel_size-1)/2, filled with zero\n",
    "            ),# -->(16, 28, 28)\n",
    "            nn.ReLU(),# -->(16, 28, 28)\n",
    "            nn.MaxPool2d(kernel_size=2,),# -->(16, 14, 14)\n",
    "        )\n",
    "        self.conv2 = nn.Sequential(# input size(16,14,14)\n",
    "            nn.Conv2d(16, 32, 5, 1, 2), #(in, out, kernel, strid, padding) # -->(32, 14, 14)\n",
    "            nn.ReLU(),# -->(32, 14, 14)\n",
    "            nn.MaxPool2d(2), # -->(32, 7, 7)\n",
    "        )\n",
    "        self.out = nn.Linear(32*7*7, 10)\n",
    "        \n",
    "    def forward(self, x):\n",
    "        x = self.conv1(x)\n",
    "        x = self.conv2(x) # (batch, 32, 7, 7)\n",
    "        x = x.view(x.size(0), -1) #(batch, 32*7*7)\n",
    "        output = self.out(x)\n",
    "        return output"
   ]
  },
  {
   "cell_type": "code",
   "execution_count": 9,
   "metadata": {},
   "outputs": [
    {
     "name": "stdout",
     "output_type": "stream",
     "text": [
      "CNN(\n",
      "  (conv1): Sequential(\n",
      "    (0): Conv2d (1, 16, kernel_size=(5, 5), stride=(1, 1), padding=(2, 2))\n",
      "    (1): ReLU()\n",
      "    (2): MaxPool2d(kernel_size=(2, 2), stride=(2, 2), dilation=(1, 1))\n",
      "  )\n",
      "  (conv2): Sequential(\n",
      "    (0): Conv2d (16, 32, kernel_size=(5, 5), stride=(1, 1), padding=(2, 2))\n",
      "    (1): ReLU()\n",
      "    (2): MaxPool2d(kernel_size=(2, 2), stride=(2, 2), dilation=(1, 1))\n",
      "  )\n",
      "  (out): Linear(in_features=1568, out_features=10)\n",
      ")\n"
     ]
    }
   ],
   "source": [
    "cnn=CNN()\n",
    "print(cnn)"
   ]
  },
  {
   "cell_type": "markdown",
   "metadata": {},
   "source": [
    "##  training"
   ]
  },
  {
   "cell_type": "code",
   "execution_count": null,
   "metadata": {
    "collapsed": true
   },
   "outputs": [],
   "source": [
    "optimizer = torch.optim.Adam(cnn.parameters(), lr=LR)\n",
    "loss_func = nn.CrossEntropyLoss()"
   ]
  },
  {
   "cell_type": "code",
   "execution_count": null,
   "metadata": {},
   "outputs": [
    {
     "name": "stdout",
     "output_type": "stream",
     "text": [
      "Epoch  0  | step  0  | train loss 2.3089  | test accuracy: 0.0970  | gradient of loss to input  Variable containing:\n",
      "1.00000e-03 *\n",
      "  4.7088\n",
      "[torch.FloatTensor of size 1]\n",
      "\n",
      "0.004708794876933098\n",
      "Epoch  0  | step  1  | train loss 2.2827  | test accuracy: 0.5470  | gradient of loss to input  Variable containing:\n",
      "1.00000e-03 *\n",
      "  5.9736\n",
      "[torch.FloatTensor of size 1]\n",
      "\n",
      "0.005973645951598883\n",
      "Epoch  0  | step  2  | train loss 2.1023  | test accuracy: 0.6415  | gradient of loss to input  Variable containing:\n",
      "1.00000e-03 *\n",
      "  6.0589\n",
      "[torch.FloatTensor of size 1]\n",
      "\n",
      "0.006058885715901852\n",
      "Epoch  0  | step  3  | train loss 1.8179  | test accuracy: 0.5775  | gradient of loss to input  Variable containing:\n",
      "1.00000e-03 *\n",
      "  9.9376\n",
      "[torch.FloatTensor of size 1]\n",
      "\n",
      "0.009937603957951069\n",
      "Epoch  0  | step  4  | train loss 1.4142  | test accuracy: 0.6355  | gradient of loss to input  Variable containing:\n",
      "1.00000e-02 *\n",
      "  1.5424\n",
      "[torch.FloatTensor of size 1]\n",
      "\n",
      "0.015424209646880627\n",
      "Epoch  0  | step  5  | train loss 1.0225  | test accuracy: 0.5515  | gradient of loss to input  Variable containing:\n",
      "1.00000e-02 *\n",
      "  2.0825\n",
      "[torch.FloatTensor of size 1]\n",
      "\n",
      "0.020824603736400604\n",
      "Epoch  0  | step  6  | train loss 1.2637  | test accuracy: 0.5840  | gradient of loss to input  Variable containing:\n",
      "1.00000e-02 *\n",
      "  3.6998\n",
      "[torch.FloatTensor of size 1]\n",
      "\n",
      "0.03699786588549614\n",
      "Epoch  0  | step  7  | train loss 1.1623  | test accuracy: 0.6320  | gradient of loss to input  Variable containing:\n",
      "1.00000e-02 *\n",
      "  4.0599\n",
      "[torch.FloatTensor of size 1]\n",
      "\n",
      "0.040598515421152115\n",
      "Epoch  0  | step  8  | train loss 1.5173  | test accuracy: 0.6300  | gradient of loss to input  Variable containing:\n",
      "1.00000e-02 *\n",
      "  4.2367\n",
      "[torch.FloatTensor of size 1]\n",
      "\n",
      "0.04236654192209244\n",
      "Epoch  0  | step  9  | train loss 1.2869  | test accuracy: 0.6320  | gradient of loss to input  Variable containing:\n",
      "1.00000e-02 *\n",
      "  4.0492\n",
      "[torch.FloatTensor of size 1]\n",
      "\n",
      "0.040492065250873566\n",
      "Epoch  0  | step  10  | train loss 1.1513  | test accuracy: 0.6515  | gradient of loss to input  Variable containing:\n",
      "1.00000e-02 *\n",
      "  3.8067\n",
      "[torch.FloatTensor of size 1]\n",
      "\n",
      "0.03806748613715172\n",
      "Epoch  0  | step  11  | train loss 0.9265  | test accuracy: 0.7260  | gradient of loss to input  Variable containing:\n",
      "1.00000e-02 *\n",
      "  3.2498\n",
      "[torch.FloatTensor of size 1]\n",
      "\n",
      "0.03249840438365936\n",
      "Epoch  0  | step  12  | train loss 0.7070  | test accuracy: 0.7485  | gradient of loss to input  Variable containing:\n",
      "1.00000e-02 *\n",
      "  2.4210\n",
      "[torch.FloatTensor of size 1]\n",
      "\n",
      "0.024210456758737564\n",
      "Epoch  0  | step  13  | train loss 0.7430  | test accuracy: 0.8050  | gradient of loss to input  Variable containing:\n",
      "1.00000e-02 *\n",
      "  2.2418\n",
      "[torch.FloatTensor of size 1]\n",
      "\n",
      "0.022418197244405746\n",
      "Epoch  0  | step  14  | train loss 0.7620  | test accuracy: 0.8300  | gradient of loss to input  Variable containing:\n",
      "1.00000e-02 *\n",
      "  2.2995\n",
      "[torch.FloatTensor of size 1]\n",
      "\n",
      "0.02299531362950802\n",
      "Epoch  0  | step  15  | train loss 0.6472  | test accuracy: 0.8415  | gradient of loss to input  Variable containing:\n",
      "1.00000e-02 *\n",
      "  2.2307\n",
      "[torch.FloatTensor of size 1]\n",
      "\n",
      "0.02230733446776867\n",
      "Epoch  0  | step  16  | train loss 0.6358  | test accuracy: 0.8515  | gradient of loss to input  Variable containing:\n",
      "1.00000e-02 *\n",
      "  2.6918\n",
      "[torch.FloatTensor of size 1]\n",
      "\n",
      "0.02691815234720707\n",
      "Epoch  0  | step  17  | train loss 0.6001  | test accuracy: 0.8635  | gradient of loss to input  Variable containing:\n",
      "1.00000e-02 *\n",
      "  2.9418\n",
      "[torch.FloatTensor of size 1]\n",
      "\n",
      "0.02941846288740635\n"
     ]
    }
   ],
   "source": [
    "FROBENIUS_NORM = 10. # gradient of loss t input\n",
    "EARLYSTOPPING_N = 3\n",
    "\n",
    "BREAK = False\n",
    "earlystopping = 0\n",
    "count = 0\n",
    "\n",
    "for epoch in range(EPOCH):\n",
    "    for step, (x, y) in enumerate(train_loader):\n",
    "        b_x = Variable(x, requires_grad=True) # batch x\n",
    "        b_y = Variable(y) # batch y\n",
    "        \n",
    "        output = cnn(b_x)\n",
    "        loss = loss_func(output, b_y)\n",
    "        optimizer.zero_grad()\n",
    "        loss.backward()\n",
    "        optimizer.step()\n",
    "        \n",
    "        \n",
    "        test_output = cnn(test_x)\n",
    "        pred_y = torch.max(test_output, 1)[1].data.squeeze()\n",
    "        accuracy = sum(pred_y ==test_y)/ test_y.size(0)\n",
    "                \n",
    "\n",
    "        print('Epoch ', epoch, ' | step ', step, \n",
    "              ' | train loss %.4f'%loss.data[0], \n",
    "              ' | test accuracy: %.4f'%accuracy,\n",
    "              ' | gradient of loss to input ', frobenius_norm,\n",
    "                 )\n",
    "\n",
    "    if BREAK: break"
   ]
  },
  {
   "cell_type": "code",
   "execution_count": null,
   "metadata": {
    "collapsed": true
   },
   "outputs": [],
   "source": [
    "### train\n",
    "# train_loss\n",
    "loss.data[0]\n",
    "# train_acc\n",
    "train_x = Variable(torch.unsqueeze(train_data.train_data, dim=1), volatile=True).type(torch.FloatTensor)/255.\n",
    "train_prediction = cnn.forward(train_x)\n",
    "train_pred = torch.max(train_prediction, 1)[1].data.squeeze()\n",
    "train_y = train_data.train_labels\n",
    "train_acc = sum(train_pred ==train_y)/ train_y.size(0)\n",
    "\n",
    "### test\n",
    "test_pred = cnn.forward(test_x)\n",
    "\n",
    "# test_loss\n",
    "test_loss = loss_func(test_pred, Variable(test_y))\n",
    "# test_acc\n",
    "test_pred = torch.max(test_pred, 1)[1].data.squeeze()\n",
    "test_acc = sum(test_pred ==test_y)/ test_y.size(0)"
   ]
  },
  {
   "cell_type": "code",
   "execution_count": null,
   "metadata": {},
   "outputs": [],
   "source": [
    "print('Batch size : %s \\n' % str(BATCH_SIZE))\n",
    "\n",
    "# frobenius_norm\n",
    "print('FROBENIUS_NORM %.4f' % FROBENIUS_NORM)\n",
    "\n",
    "# training data\n",
    "print('train_loss %.4f' % loss.data[0]) # training loss\n",
    "print('train_acc %.4f' % train_acc)\n",
    "print('test_loss %.4f' % test_loss.data[0])\n",
    "print('test_acc %.4f' % test_acc)"
   ]
  },
  {
   "cell_type": "code",
   "execution_count": null,
   "metadata": {
    "collapsed": true
   },
   "outputs": [],
   "source": [
    "# Batch size : 6000 \n",
    "\n",
    "# train_loss 0.0562\n",
    "# train_acc 0.9836\n",
    "# test_loss 0.0619\n",
    "# test_acc 0.9790"
   ]
  },
  {
   "cell_type": "code",
   "execution_count": null,
   "metadata": {
    "collapsed": true
   },
   "outputs": [],
   "source": [
    "# Batch size : 50 \n",
    "\n",
    "# train_loss 0.0539\n",
    "# train_acc 0.9602\n",
    "# test_loss 0.1804\n",
    "# test_acc 0.9460\n"
   ]
  },
  {
   "cell_type": "code",
   "execution_count": null,
   "metadata": {
    "collapsed": true
   },
   "outputs": [],
   "source": [
    "cnn."
   ]
  }
 ],
 "metadata": {
  "kernelspec": {
   "display_name": "Python 3",
   "language": "python",
   "name": "python3"
  },
  "language_info": {
   "codemirror_mode": {
    "name": "ipython",
    "version": 3
   },
   "file_extension": ".py",
   "mimetype": "text/x-python",
   "name": "python",
   "nbconvert_exporter": "python",
   "pygments_lexer": "ipython3",
   "version": "3.6.4"
  }
 },
 "nbformat": 4,
 "nbformat_minor": 2
}

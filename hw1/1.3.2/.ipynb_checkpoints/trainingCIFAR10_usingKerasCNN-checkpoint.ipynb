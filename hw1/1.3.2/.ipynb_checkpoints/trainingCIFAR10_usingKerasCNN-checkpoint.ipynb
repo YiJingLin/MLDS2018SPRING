{
 "cells": [
  {
   "cell_type": "code",
   "execution_count": 2,
   "metadata": {},
   "outputs": [],
   "source": [
    "from __future__ import print_function\n",
    "import keras\n",
    "from keras.datasets import cifar10\n",
    "from keras.preprocessing.image import ImageDataGenerator\n",
    "from keras.models import Sequential\n",
    "from keras.layers import Dense, Dropout, Activation, Flatten\n",
    "from keras.layers import Conv2D, MaxPooling2D\n",
    "import os"
   ]
  },
  {
   "cell_type": "code",
   "execution_count": 3,
   "metadata": {},
   "outputs": [
    {
     "name": "stdout",
     "output_type": "stream",
     "text": [
      "x_train shape: (50000, 32, 32, 3)\n",
      "50000 train samples\n",
      "10000 test samples\n"
     ]
    }
   ],
   "source": [
    "batch_size = 32\n",
    "num_classes = 10\n",
    "epochs = 30\n",
    "data_augmentation = True\n",
    "num_predictions = 20\n",
    "save_dir = os.path.join(os.getcwd(), 'saved_models')\n",
    "model_name = 'keras_cifar10_trained_model.h5'\n",
    "\n",
    "# The data, split between train and test sets:\n",
    "(x_train, y_train), (x_test, y_test) = cifar10.load_data()\n",
    "print('x_train shape:', x_train.shape)\n",
    "print(x_train.shape[0], 'train samples')\n",
    "print(x_test.shape[0], 'test samples')\n",
    "\n",
    "# Convert class vectors to binary class matrices.\n",
    "y_train = keras.utils.to_categorical(y_train, num_classes)\n",
    "y_test = keras.utils.to_categorical(y_test, num_classes)"
   ]
  },
  {
   "cell_type": "code",
   "execution_count": 11,
   "metadata": {},
   "outputs": [
    {
     "name": "stdout",
     "output_type": "stream",
     "text": [
      "# of params:  79688\n",
      "# of params:  154238\n",
      "# of params:  229292\n",
      "# of params:  304850\n",
      "# of params:  457478\n",
      "# of params:  612122\n",
      "# of params:  768782\n",
      "# of params:  927458\n",
      "# of params:  1088150\n",
      "# of params:  1250858\n"
     ]
    },
    {
     "data": {
      "text/plain": [
       "<keras.models.Sequential at 0x7f1940ad5588>"
      ]
     },
     "execution_count": 11,
     "metadata": {},
     "output_type": "execute_result"
    }
   ],
   "source": [
    "def VGG(n_ly1, n_ly2):\n",
    "    model = Sequential()\n",
    "    model.add(Conv2D(n_ly1, (3, 3), padding='same',\n",
    "                     input_shape=x_train.shape[1:]))\n",
    "    model.add(Activation('relu'))\n",
    "    model.add(Conv2D(n_ly1, (3, 3)))\n",
    "    model.add(Activation('relu'))\n",
    "    model.add(MaxPooling2D(pool_size=(2, 2)))\n",
    "    model.add(Dropout(0.25))\n",
    "\n",
    "    model.add(Conv2D(n_ly2, (3, 3), padding='same'))\n",
    "    model.add(Activation('relu'))\n",
    "    model.add(Conv2D(n_ly2, (3, 3)))\n",
    "    model.add(Activation('relu'))\n",
    "    model.add(MaxPooling2D(pool_size=(2, 2)))\n",
    "    model.add(Dropout(0.25))\n",
    "\n",
    "    model.add(Flatten())\n",
    "    model.add(Dense(512))\n",
    "    model.add(Activation('relu'))\n",
    "    model.add(Dropout(0.5))\n",
    "    model.add(Dense(num_classes))\n",
    "    model.add(Activation('softmax'))\n",
    "\n",
    "    print(\"# of params: \", model.count_params())\n",
    "    return model\n",
    "\n",
    "# check # of params curve\n",
    "\n",
    "VGG(2, 4)\n",
    "VGG(4, 8)\n",
    "VGG(6, 12)\n",
    "VGG(8, 16)\n",
    "VGG(12, 24)\n",
    "VGG(16, 32)\n",
    "VGG(20, 40)\n",
    "VGG(24, 48)\n",
    "VGG(28, 56)\n",
    "VGG(32, 64)\n",
    "\n",
    "# [2, 4, 6, 8, 12, 16, 20, 24, 28, 32]"
   ]
  },
  {
   "cell_type": "code",
   "execution_count": 5,
   "metadata": {
    "collapsed": true
   },
   "outputs": [],
   "source": [
    "x_train = x_train.astype('float32')\n",
    "x_test = x_test.astype('float32')\n",
    "x_train /= 255\n",
    "x_test /= 255"
   ]
  },
  {
   "cell_type": "code",
   "execution_count": 14,
   "metadata": {
    "collapsed": true
   },
   "outputs": [],
   "source": [
    "result = {}\n",
    "\n",
    "result['param_num'] = []\n",
    "result['train_acc'] = []\n",
    "result['test_acc'] = []\n",
    "result['train_loss'] = []\n",
    "result['test_loss'] = []"
   ]
  },
  {
   "cell_type": "code",
   "execution_count": 13,
   "metadata": {},
   "outputs": [
    {
     "name": "stdout",
     "output_type": "stream",
     "text": [
      "# of params:  79688\n",
      "Train on 50000 samples, validate on 10000 samples\n",
      "Epoch 1/30\n",
      "50000/50000 [==============================] - 5s - loss: 2.2063 - acc: 0.1703 - val_loss: 2.0576 - val_acc: 0.2556\n",
      "Epoch 2/30\n",
      "50000/50000 [==============================] - 4s - loss: 2.0242 - acc: 0.2463 - val_loss: 1.9668 - val_acc: 0.2702\n",
      "Epoch 3/30\n",
      "50000/50000 [==============================] - 4s - loss: 1.9775 - acc: 0.2590 - val_loss: 1.9317 - val_acc: 0.2806\n",
      "Epoch 4/30\n",
      "50000/50000 [==============================] - 4s - loss: 1.9393 - acc: 0.2746 - val_loss: 1.8944 - val_acc: 0.3155\n",
      "Epoch 5/30\n",
      "50000/50000 [==============================] - 4s - loss: 1.8950 - acc: 0.2989 - val_loss: 1.8393 - val_acc: 0.3291\n",
      "Epoch 6/30\n",
      "50000/50000 [==============================] - 4s - loss: 1.8333 - acc: 0.3258 - val_loss: 1.7774 - val_acc: 0.3523\n",
      "Epoch 7/30\n",
      "50000/50000 [==============================] - 4s - loss: 1.7924 - acc: 0.3389 - val_loss: 1.7330 - val_acc: 0.3676\n",
      "Epoch 8/30\n",
      "50000/50000 [==============================] - 4s - loss: 1.7730 - acc: 0.3487 - val_loss: 1.7074 - val_acc: 0.3756\n",
      "Epoch 9/30\n",
      "50000/50000 [==============================] - 4s - loss: 1.7537 - acc: 0.3525 - val_loss: 1.6866 - val_acc: 0.3819\n",
      "Epoch 10/30\n",
      "50000/50000 [==============================] - 4s - loss: 1.7365 - acc: 0.3613 - val_loss: 1.6659 - val_acc: 0.3873\n",
      "Epoch 11/30\n",
      "50000/50000 [==============================] - 4s - loss: 1.7272 - acc: 0.3690 - val_loss: 1.6553 - val_acc: 0.3951\n",
      "Epoch 12/30\n",
      "50000/50000 [==============================] - 4s - loss: 1.7139 - acc: 0.3709 - val_loss: 1.6529 - val_acc: 0.3957\n",
      "Epoch 13/30\n",
      "50000/50000 [==============================] - 4s - loss: 1.7065 - acc: 0.3742 - val_loss: 1.6330 - val_acc: 0.4018\n",
      "Epoch 14/30\n",
      "50000/50000 [==============================] - 4s - loss: 1.6995 - acc: 0.3759 - val_loss: 1.6309 - val_acc: 0.4057\n",
      "Epoch 15/30\n",
      "50000/50000 [==============================] - 5s - loss: 1.6893 - acc: 0.3804 - val_loss: 1.6195 - val_acc: 0.4088\n",
      "Epoch 16/30\n",
      "50000/50000 [==============================] - 4s - loss: 1.6840 - acc: 0.3790 - val_loss: 1.6187 - val_acc: 0.4086\n",
      "Epoch 17/30\n",
      "50000/50000 [==============================] - 4s - loss: 1.6748 - acc: 0.3856 - val_loss: 1.6164 - val_acc: 0.4112\n",
      "Epoch 18/30\n",
      "50000/50000 [==============================] - 4s - loss: 1.6702 - acc: 0.3872 - val_loss: 1.5965 - val_acc: 0.4184\n",
      "Epoch 19/30\n",
      "50000/50000 [==============================] - 4s - loss: 1.6644 - acc: 0.3896 - val_loss: 1.6021 - val_acc: 0.4199\n",
      "Epoch 20/30\n",
      "50000/50000 [==============================] - 4s - loss: 1.6570 - acc: 0.3934 - val_loss: 1.5986 - val_acc: 0.4213\n",
      "Epoch 21/30\n",
      "50000/50000 [==============================] - 4s - loss: 1.6562 - acc: 0.3940 - val_loss: 1.5871 - val_acc: 0.4195\n",
      "Epoch 22/30\n",
      "50000/50000 [==============================] - 4s - loss: 1.6525 - acc: 0.3936 - val_loss: 1.5929 - val_acc: 0.4252\n",
      "Epoch 23/30\n",
      "50000/50000 [==============================] - 4s - loss: 1.6467 - acc: 0.3974 - val_loss: 1.5789 - val_acc: 0.4287\n",
      "Epoch 24/30\n",
      "50000/50000 [==============================] - 4s - loss: 1.6388 - acc: 0.3970 - val_loss: 1.5767 - val_acc: 0.4292\n",
      "Epoch 25/30\n",
      "50000/50000 [==============================] - 4s - loss: 1.6357 - acc: 0.3991 - val_loss: 1.5691 - val_acc: 0.4281\n",
      "Epoch 26/30\n",
      "50000/50000 [==============================] - 4s - loss: 1.6331 - acc: 0.4039 - val_loss: 1.5772 - val_acc: 0.4278\n",
      "Epoch 27/30\n",
      "50000/50000 [==============================] - 4s - loss: 1.6297 - acc: 0.4066 - val_loss: 1.5624 - val_acc: 0.4339\n",
      "Epoch 28/30\n",
      "50000/50000 [==============================] - 4s - loss: 1.6321 - acc: 0.4037 - val_loss: 1.5665 - val_acc: 0.4326\n",
      "Epoch 29/30\n",
      "50000/50000 [==============================] - 4s - loss: 1.6234 - acc: 0.4055 - val_loss: 1.5678 - val_acc: 0.4342\n",
      "Epoch 30/30\n",
      "50000/50000 [==============================] - 4s - loss: 1.6211 - acc: 0.4066 - val_loss: 1.5631 - val_acc: 0.4359\n"
     ]
    },
    {
     "ename": "NameError",
     "evalue": "name 'result' is not defined",
     "output_type": "error",
     "traceback": [
      "\u001b[0;31m--------------------------------------------------------------------\u001b[0m",
      "\u001b[0;31mNameError\u001b[0m                          Traceback (most recent call last)",
      "\u001b[0;32m<ipython-input-13-47bb9a10a1e3>\u001b[0m in \u001b[0;36m<module>\u001b[0;34m()\u001b[0m\n\u001b[1;32m     22\u001b[0m \u001b[0;34m\u001b[0m\u001b[0m\n\u001b[1;32m     23\u001b[0m \u001b[0;34m\u001b[0m\u001b[0m\n\u001b[0;32m---> 24\u001b[0;31m \u001b[0mresult\u001b[0m\u001b[0;34m[\u001b[0m\u001b[0;34m'param_num'\u001b[0m\u001b[0;34m]\u001b[0m\u001b[0;34m.\u001b[0m\u001b[0mappend\u001b[0m\u001b[0;34m(\u001b[0m\u001b[0mround\u001b[0m\u001b[0;34m(\u001b[0m\u001b[0mparam_num\u001b[0m\u001b[0;34m,\u001b[0m \u001b[0;36m4\u001b[0m\u001b[0;34m)\u001b[0m\u001b[0;34m)\u001b[0m\u001b[0;34m\u001b[0m\u001b[0m\n\u001b[0m\u001b[1;32m     25\u001b[0m \u001b[0mresult\u001b[0m\u001b[0;34m[\u001b[0m\u001b[0;34m'train_acc'\u001b[0m\u001b[0;34m]\u001b[0m\u001b[0;34m.\u001b[0m\u001b[0mappend\u001b[0m\u001b[0;34m(\u001b[0m\u001b[0mround\u001b[0m\u001b[0;34m(\u001b[0m\u001b[0mtrain_acc\u001b[0m\u001b[0;34m,\u001b[0m \u001b[0;36m4\u001b[0m\u001b[0;34m)\u001b[0m\u001b[0;34m)\u001b[0m\u001b[0;34m\u001b[0m\u001b[0m\n\u001b[1;32m     26\u001b[0m \u001b[0mresult\u001b[0m\u001b[0;34m[\u001b[0m\u001b[0;34m'test_acc'\u001b[0m\u001b[0;34m]\u001b[0m\u001b[0;34m.\u001b[0m\u001b[0mappend\u001b[0m\u001b[0;34m(\u001b[0m\u001b[0mround\u001b[0m\u001b[0;34m(\u001b[0m\u001b[0mtest_acc\u001b[0m\u001b[0;34m,\u001b[0m \u001b[0;36m4\u001b[0m\u001b[0;34m)\u001b[0m\u001b[0;34m)\u001b[0m\u001b[0;34m\u001b[0m\u001b[0m\n",
      "\u001b[0;31mNameError\u001b[0m: name 'result' is not defined"
     ]
    }
   ],
   "source": [
    "layParam = [4, 6, 8, 12, 16, 20, 24, 28, 32]\n",
    "for itr, params in enumerate(layParam):\n",
    "    \n",
    "    model = VGG(params, params*2)\n",
    "    print('***itr: ', itr, '  |  params: ', model.count_params())\n",
    "# initiate RMSprop optimizer\n",
    "opt = keras.optimizers.rmsprop(lr=0.0001, decay=1e-6)\n",
    "\n",
    "# Let's train the model using RMSprop\n",
    "model.compile(loss='categorical_crossentropy',\n",
    "              optimizer=opt,\n",
    "              metrics=['accuracy'])\n",
    "\n",
    "model.fit(x_train, y_train,\n",
    "              batch_size=batch_size,\n",
    "              epochs=30,\n",
    "              validation_data=(x_test, y_test),\n",
    "              verbose = 0,\n",
    "shuffle=True)\n",
    "\n",
    "score = model.evaluate(x_train, y_train, verbose=0)\n",
    "train_loss, train_acc = score\n",
    "score = model.evaluate(x_test, y_test, verbose=0)\n",
    "test_loss, test_acc = score\n",
    "\n",
    "\n",
    "result['param_num'].append(round(model.count_params(), 4))\n",
    "result['train_acc'].append(round(train_acc, 4))\n",
    "result['test_acc'].append(round(test_acc, 4))\n",
    "result['train_loss'].append(round(train_loss, 4))\n",
    "result['test_loss'].append(round(test_loss, 4))\n",
    "\n",
    "### print\n",
    "print(\n",
    "    'train_acc : %.4f' % train_acc,\n",
    "    '\\t test_acc : %.4f' % test_acc,\n",
    "    '\\t train_loss : %.4f' % train_loss,\n",
    "    '\\t test_loss : %.4f' % test_loss,\n",
    ")"
   ]
  },
  {
   "cell_type": "code",
   "execution_count": 15,
   "metadata": {},
   "outputs": [
    {
     "name": "stdout",
     "output_type": "stream",
     "text": [
      "train_acc : 0.4332 \t test_acc : 0.4359 \t train_loss : 1.5609 \t test_loss : 1.5631\n"
     ]
    }
   ],
   "source": []
  },
  {
   "cell_type": "code",
   "execution_count": 16,
   "metadata": {},
   "outputs": [
    {
     "data": {
      "text/plain": [
       "{'param_num': [79688],\n",
       " 'test_acc': [0.43590000000000001],\n",
       " 'test_loss': [1.5630999999999999],\n",
       " 'train_acc': [0.43319999999999997],\n",
       " 'train_loss': [1.5609]}"
      ]
     },
     "execution_count": 16,
     "metadata": {},
     "output_type": "execute_result"
    }
   ],
   "source": [
    "result"
   ]
  }
 ],
 "metadata": {
  "kernelspec": {
   "display_name": "Python 3",
   "language": "python",
   "name": "python3"
  },
  "language_info": {
   "codemirror_mode": {
    "name": "ipython",
    "version": 3
   },
   "file_extension": ".py",
   "mimetype": "text/x-python",
   "name": "python",
   "nbconvert_exporter": "python",
   "pygments_lexer": "ipython3",
   "version": "3.6.3"
  }
 },
 "nbformat": 4,
 "nbformat_minor": 2
}

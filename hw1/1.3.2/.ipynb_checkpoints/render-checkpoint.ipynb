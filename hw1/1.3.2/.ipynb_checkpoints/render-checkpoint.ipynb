{
 "cells": [
  {
   "cell_type": "code",
   "execution_count": 34,
   "metadata": {
    "collapsed": true
   },
   "outputs": [],
   "source": [
    "import pickle\n",
    "\n",
    "import matplotlib.pyplot as plt\n",
    "import matplotlib.patches as mpatches"
   ]
  },
  {
   "cell_type": "code",
   "execution_count": 16,
   "metadata": {},
   "outputs": [
    {
     "data": {
      "text/plain": [
       "dict_keys(['param_num', 'train_acc', 'test_acc', 'train_loss', 'test_loss'])"
      ]
     },
     "execution_count": 16,
     "metadata": {},
     "output_type": "execute_result"
    }
   ],
   "source": [
    "mnist = None\n",
    "\n",
    "with open('./output/result_MNIST.pkl', 'rb') as file:\n",
    "    mnist = pickle.load(file)\n",
    "    \n",
    "mnist.keys()"
   ]
  },
  {
   "cell_type": "markdown",
   "metadata": {},
   "source": [
    "# MNIST"
   ]
  },
  {
   "cell_type": "code",
   "execution_count": 39,
   "metadata": {},
   "outputs": [
    {
     "data": {
      "image/png": "[encoded data removed]",
      "text/plain": [
       "<matplotlib.figure.Figure at 0x7fd838c27710>"
      ]
     },
     "metadata": {},
     "output_type": "display_data"
    }
   ],
   "source": [
    "fig = plt.figure()\n",
    "\n",
    "# test acc\n",
    "plt.scatter(mnist['param_num'], mnist['test_acc'], c='red')\n",
    "\n",
    "# train acc\n",
    "plt.scatter(mnist['param_num'], mnist['train_acc'], c='blue')\n",
    "\n",
    "test_acc_patch = mpatches.Patch(color='red', label='test acc')\n",
    "train_acc_patch = mpatches.Patch(color='blue', label='train acc')\n",
    "plt.legend(handles=[test_acc_patch, train_acc_patch])\n",
    "\n",
    "\n",
    "plt.show()\n"
   ]
  },
  {
   "cell_type": "code",
   "execution_count": 41,
   "metadata": {},
   "outputs": [
    {
     "data": {
      "image/png": "[encoded data removed]",
      "text/plain": [
       "<matplotlib.figure.Figure at 0x7fd838f8f588>"
      ]
     },
     "metadata": {},
     "output_type": "display_data"
    }
   ],
   "source": [
    "fig = plt.figure()\n",
    "\n",
    "# test loss\n",
    "plt.scatter(mnist['param_num'], mnist['test_loss'], c='red')\n",
    "\n",
    "# train loss\n",
    "plt.scatter(mnist['param_num'], mnist['train_loss'], c='blue')\n",
    "\n",
    "test_acc_patch = mpatches.Patch(color='red', label='test loss')\n",
    "train_acc_patch = mpatches.Patch(color='blue', label='train loss')\n",
    "plt.legend(handles=[test_acc_patch, train_acc_patch], loc=1)\n",
    "\n",
    "plt.show()"
   ]
  },
  {
   "cell_type": "markdown",
   "metadata": {},
   "source": [
    "# CIFAR10"
   ]
  },
  {
   "cell_type": "code",
   "execution_count": null,
   "metadata": {
    "collapsed": true
   },
   "outputs": [],
   "source": [
    "fig = plt.figure()\n",
    "\n",
    "# test acc\n",
    "plt.scatter(mnist['param_num'], mnist['test_acc'], c='red')\n",
    "\n",
    "# train acc\n",
    "plt.scatter(mnist['param_num'], mnist['train_acc'], c='blue')\n",
    "\n",
    "test_acc_patch = mpatches.Patch(color='red', label='test acc')\n",
    "train_acc_patch = mpatches.Patch(color='blue', label='train acc')\n",
    "plt.legend(handles=[test_acc_patch, train_acc_patch])\n",
    "\n",
    "\n",
    "plt.show()\n"
   ]
  },
  {
   "cell_type": "code",
   "execution_count": null,
   "metadata": {
    "collapsed": true
   },
   "outputs": [],
   "source": [
    "fig = plt.figure()\n",
    "\n",
    "# test loss\n",
    "plt.scatter(mnist['param_num'], mnist['test_loss'], c='red')\n",
    "\n",
    "# train loss\n",
    "plt.scatter(mnist['param_num'], mnist['train_loss'], c='blue')\n",
    "\n",
    "test_acc_patch = mpatches.Patch(color='red', label='test loss')\n",
    "train_acc_patch = mpatches.Patch(color='blue', label='train loss')\n",
    "plt.legend(handles=[test_acc_patch, train_acc_patch], loc=1)\n",
    "\n",
    "plt.show()"
   ]
  }
 ],
 "metadata": {
  "kernelspec": {
   "display_name": "Python 3",
   "language": "python",
   "name": "python3"
  },
  "language_info": {
   "codemirror_mode": {
    "name": "ipython",
    "version": 3
   },
   "file_extension": ".py",
   "mimetype": "text/x-python",
   "name": "python",
   "nbconvert_exporter": "python",
   "pygments_lexer": "ipython3",
   "version": "3.6.3"
  }
 },
 "nbformat": 4,
 "nbformat_minor": 2
}

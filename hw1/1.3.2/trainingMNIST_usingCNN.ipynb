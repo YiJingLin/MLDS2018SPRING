{
 "cells": [
  {
   "cell_type": "markdown",
   "metadata": {},
   "source": [
    "## target\n",
    "task : img classification\n",
    "\n",
    "data : MNIST"
   ]
  },
  {
   "cell_type": "code",
   "execution_count": 1,
   "metadata": {
    "collapsed": true
   },
   "outputs": [],
   "source": [
    "import torch\n",
    "import torch.nn as nn\n",
    "from torch.autograd import Variable\n",
    "import torch.utils.data as Data\n",
    "import torchvision\n",
    "    \n",
    "import matplotlib.pyplot as plt"
   ]
  },
  {
   "cell_type": "code",
   "execution_count": 2,
   "metadata": {
    "collapsed": true
   },
   "outputs": [],
   "source": [
    "# Hyper parameters\n",
    "EPOCH = 1\n",
    "BATCH_SIZE = 100\n",
    "LR = 0.01\n",
    "DOWNLOAD_MNIST = False # 請求下載"
   ]
  },
  {
   "cell_type": "markdown",
   "metadata": {},
   "source": [
    "## train data"
   ]
  },
  {
   "cell_type": "code",
   "execution_count": 3,
   "metadata": {
    "collapsed": true
   },
   "outputs": [],
   "source": [
    "# download data\n",
    "train_data = torchvision.datasets.MNIST(\n",
    "    root = './mnist',\n",
    "    train=True, # is training data\n",
    "    transform=torchvision.transforms.ToTensor(), # trans from numpy.ary to torch Tensor\n",
    "    download = DOWNLOAD_MNIST,\n",
    ")"
   ]
  },
  {
   "cell_type": "code",
   "execution_count": 4,
   "metadata": {},
   "outputs": [
    {
     "name": "stdout",
     "output_type": "stream",
     "text": [
      "torch.Size([60000, 28, 28])\n",
      "torch.Size([60000])\n"
     ]
    },
    {
     "data": {
      "image/png": "[encoded data removed]",
      "text/plain": [
       "<matplotlib.figure.Figure at 0x7f5e9cb2dfd0>"
      ]
     },
     "metadata": {},
     "output_type": "display_data"
    }
   ],
   "source": [
    "#plot one example\n",
    "print(train_data.train_data.size())\n",
    "print(train_data.train_labels.size())\n",
    "\n",
    "plt.imshow(train_data.train_data[0].numpy(), cmap='gray')\n",
    "plt.title('%i' % train_data.train_labels[0])\n",
    "plt.show()"
   ]
  },
  {
   "cell_type": "code",
   "execution_count": 5,
   "metadata": {
    "collapsed": true
   },
   "outputs": [],
   "source": [
    "train_loader = Data.DataLoader(dataset=train_data, batch_size=BATCH_SIZE, shuffle=True, num_workers=2)"
   ]
  },
  {
   "cell_type": "markdown",
   "metadata": {},
   "source": [
    "# test data"
   ]
  },
  {
   "cell_type": "code",
   "execution_count": 6,
   "metadata": {},
   "outputs": [
    {
     "data": {
      "text/plain": [
       "10000"
      ]
     },
     "execution_count": 6,
     "metadata": {},
     "output_type": "execute_result"
    }
   ],
   "source": [
    "test_data = torchvision.datasets.MNIST(root='./mnist', train=False)\n",
    "len(test_data)"
   ]
  },
  {
   "cell_type": "code",
   "execution_count": 18,
   "metadata": {},
   "outputs": [
    {
     "data": {
      "text/plain": [
       "torch.Size([10000, 28, 28])"
      ]
     },
     "execution_count": 18,
     "metadata": {},
     "output_type": "execute_result"
    }
   ],
   "source": [
    "test_data.test_data.shape"
   ]
  },
  {
   "cell_type": "code",
   "execution_count": 7,
   "metadata": {
    "collapsed": true
   },
   "outputs": [],
   "source": [
    "test_x = Variable(torch.unsqueeze(test_data.test_data, dim=1), volatile=True).type(torch.FloatTensor)\n",
    "test_x = test_x[:2000]/255.\n",
    "\n",
    "test_y = test_data.test_labels[:2000]"
   ]
  },
  {
   "cell_type": "code",
   "execution_count": 16,
   "metadata": {},
   "outputs": [
    {
     "data": {
      "text/plain": [
       "torch.Size([2000, 1, 28, 28])"
      ]
     },
     "execution_count": 16,
     "metadata": {},
     "output_type": "execute_result"
    }
   ],
   "source": [
    "test_x.size()"
   ]
  },
  {
   "cell_type": "markdown",
   "metadata": {},
   "source": [
    "## build CNN"
   ]
  },
  {
   "cell_type": "code",
   "execution_count": 8,
   "metadata": {
    "collapsed": true
   },
   "outputs": [],
   "source": [
    "class CNN(nn.Module):\n",
    "    def __init__(self, n_conv1_filter, n_conv2_filter):\n",
    "        super(CNN, self).__init__()\n",
    "        self.conv1 = nn.Sequential(# input size(1,28,28)\n",
    "            nn.Conv2d( \n",
    "                in_channels = 1, # gray(if RGB, then in_channel=3)\n",
    "                out_channels = n_conv1_filter, # num_filter\n",
    "                kernel_size=5, # filter's height and width = 5\n",
    "                stride=1, # shift 1 distance each time\n",
    "                padding=2, # if stride=1, padding=(kernel_size-1)/2, filled with zero\n",
    "            ),# -->(16, 28, 28)\n",
    "            nn.ReLU(),# -->(16, 28, 28)\n",
    "            nn.MaxPool2d(kernel_size=2,),# -->(16, 14, 14)\n",
    "        )\n",
    "        self.conv2 = nn.Sequential(# input size(16,14,14)\n",
    "            nn.Conv2d(n_conv1_filter, n_conv2_filter, 5, 1, 2), #(in, out, kernel, strid, padding) # -->(32, 14, 14)\n",
    "            nn.ReLU(),# -->(32, 14, 14)\n",
    "            nn.MaxPool2d(2), # -->(32, 7, 7)\n",
    "        )\n",
    "        self.out = nn.Linear(n_conv2_filter * 7 * 7, 10)\n",
    "        \n",
    "    def forward(self, x):\n",
    "        x = self.conv1(x)\n",
    "        x = self.conv2(x) # (batch, 32, 7, 7)\n",
    "        x = x.view(x.size(0), -1) #(batch, 32*7*7)\n",
    "        output = self.out(x)\n",
    "        return output"
   ]
  },
  {
   "cell_type": "code",
   "execution_count": 9,
   "metadata": {
    "collapsed": true
   },
   "outputs": [],
   "source": [
    "result = {}\n",
    "\n",
    "result['param_num'] = []\n",
    "result['train_acc'] = []\n",
    "result['test_acc'] = []\n",
    "result['train_loss'] = []\n",
    "result['test_loss'] = []"
   ]
  },
  {
   "cell_type": "code",
   "execution_count": 12,
   "metadata": {},
   "outputs": [
    {
     "name": "stdout",
     "output_type": "stream",
     "text": [
      "itr 17 | param_num 110514\n",
      "train_acc : 0.9791 \t test_acc : 0.9705 \t train_loss : 0.2099 \t test_loss : 0.0812\n",
      "itr 18 | param_num 120330\n",
      "train_acc : 0.9809 \t test_acc : 0.9740 \t train_loss : 0.0303 \t test_loss : 0.0877\n",
      "itr 19 | param_num 130546\n",
      "train_acc : 0.9516 \t test_acc : 0.9490 \t train_loss : 0.1648 \t test_loss : 0.1893\n",
      "itr 20 | param_num 141162\n",
      "train_acc : 0.9733 \t test_acc : 0.9700 \t train_loss : 0.1004 \t test_loss : 0.0848\n"
     ]
    }
   ],
   "source": [
    "# training and validate 20 different model\n",
    "\n",
    "for itr in range(17, 21, 1):\n",
    "\n",
    "    num_filter = itr * 2 + 4\n",
    "    \n",
    "    # declare CNN model with num_filter\n",
    "    cnn=CNN(n_conv1_filter = num_filter, n_conv2_filter = (num_filter*2))\n",
    "#     print(cnn)\n",
    "\n",
    "    # count parameters number\n",
    "    param_num = 0\n",
    "\n",
    "    for parameter in cnn.parameters(): # find each layer's parameter tensor\n",
    "        param_each_layer = 1\n",
    "        for dim in list(parameter.size()): # calculate parameter number\n",
    "            param_each_layer *=dim\n",
    "\n",
    "        param_num += param_each_layer # sum\n",
    "\n",
    "    print('itr %d | param_num %d'% (itr, param_num)) # finally get number of parameters\n",
    "    \n",
    "    def training():\n",
    "        optimizer = torch.optim.Adam(cnn.parameters(), lr=LR)\n",
    "        loss_func = nn.CrossEntropyLoss()\n",
    "\n",
    "        for epoch in range(EPOCH):\n",
    "            for step, (x, y) in enumerate(train_loader):\n",
    "                b_x = Variable(x, requires_grad=True) # batch x\n",
    "                b_y = Variable(y) # batch y\n",
    "\n",
    "                output = cnn(b_x)\n",
    "                loss = loss_func(output, b_y)\n",
    "                optimizer.zero_grad()\n",
    "                loss.backward()\n",
    "                optimizer.step()\n",
    "                \n",
    "#                 if step % 10 ==0:\n",
    "#                 print('sucess')\n",
    "\n",
    "        ### train\n",
    "        # train_loss\n",
    "        train_loss = loss.data[0]\n",
    "        # train_acc\n",
    "        train_x = Variable(torch.unsqueeze(train_data.train_data, dim=1), volatile=True).type(torch.FloatTensor)/255.\n",
    "        train_prediction = cnn.forward(train_x)\n",
    "        train_pred = torch.max(train_prediction, 1)[1].data.squeeze()\n",
    "        train_y = train_data.train_labels\n",
    "        train_acc = sum(train_pred ==train_y)/ train_y.size(0)\n",
    "\n",
    "        ### test\n",
    "        test_pred = cnn.forward(test_x)\n",
    "\n",
    "        # test_loss\n",
    "        test_loss = loss_func(test_pred, Variable(test_y)).data[0]\n",
    "        # test_acc\n",
    "        test_pred = torch.max(test_pred, 1)[1].data.squeeze()\n",
    "        test_acc = sum(test_pred ==test_y)/ test_y.size(0)\n",
    "        \n",
    "        ### record\n",
    "        result['param_num'].append(round(param_num, 4))\n",
    "        result['train_acc'].append(round(train_acc, 4))\n",
    "        result['test_acc'].append(round(test_acc, 4))\n",
    "        result['train_loss'].append(round(train_loss, 4))\n",
    "        result['test_loss'].append(round(test_loss, 4))\n",
    "        \n",
    "        ### print\n",
    "        print(\n",
    "            'train_acc : %.4f' % train_acc,\n",
    "            '\\t test_acc : %.4f' % test_acc,\n",
    "            '\\t train_loss : %.4f' % train_loss,\n",
    "            '\\t test_loss : %.4f' % test_loss,\n",
    "        )\n",
    "        \n",
    "#         del cnn\n",
    "        \n",
    "    training()"
   ]
  },
  {
   "cell_type": "code",
   "execution_count": 13,
   "metadata": {},
   "outputs": [
    {
     "data": {
      "text/plain": [
       "{'param_num': [7858,\n",
       "  11274,\n",
       "  15090,\n",
       "  19306,\n",
       "  23922,\n",
       "  28938,\n",
       "  34354,\n",
       "  40170,\n",
       "  46386,\n",
       "  53002,\n",
       "  60018,\n",
       "  67434,\n",
       "  75250,\n",
       "  83466,\n",
       "  92082,\n",
       "  101098,\n",
       "  110514,\n",
       "  120330,\n",
       "  130546,\n",
       "  141162],\n",
       " 'test_acc': [0.9745,\n",
       "  0.9795,\n",
       "  0.974,\n",
       "  0.931,\n",
       "  0.9745,\n",
       "  0.9715,\n",
       "  0.9765,\n",
       "  0.968,\n",
       "  0.9635,\n",
       "  0.9775,\n",
       "  0.965,\n",
       "  0.9725,\n",
       "  0.9655,\n",
       "  0.9775,\n",
       "  0.9635,\n",
       "  0.9735,\n",
       "  0.9705,\n",
       "  0.974,\n",
       "  0.949,\n",
       "  0.97],\n",
       " 'test_loss': [0.0714,\n",
       "  0.0611,\n",
       "  0.0719,\n",
       "  0.2072,\n",
       "  0.0761,\n",
       "  0.0886,\n",
       "  0.0873,\n",
       "  0.1001,\n",
       "  0.1122,\n",
       "  0.0768,\n",
       "  0.0978,\n",
       "  0.0876,\n",
       "  0.1019,\n",
       "  0.0733,\n",
       "  0.1234,\n",
       "  0.0868,\n",
       "  0.0812,\n",
       "  0.0877,\n",
       "  0.1893,\n",
       "  0.0848],\n",
       " 'train_acc': [0.9829,\n",
       "  0.9853,\n",
       "  0.9836,\n",
       "  0.9518,\n",
       "  0.9808,\n",
       "  0.9764,\n",
       "  0.9808,\n",
       "  0.9759,\n",
       "  0.9719,\n",
       "  0.983,\n",
       "  0.9726,\n",
       "  0.9779,\n",
       "  0.9757,\n",
       "  0.9819,\n",
       "  0.9696,\n",
       "  0.9802,\n",
       "  0.9791,\n",
       "  0.9809,\n",
       "  0.9516,\n",
       "  0.9733],\n",
       " 'train_loss': [0.033,\n",
       "  0.0628,\n",
       "  0.0415,\n",
       "  0.1551,\n",
       "  0.0695,\n",
       "  0.0347,\n",
       "  0.1574,\n",
       "  0.1035,\n",
       "  0.0174,\n",
       "  0.0252,\n",
       "  0.1023,\n",
       "  0.0348,\n",
       "  0.0257,\n",
       "  0.091,\n",
       "  0.1396,\n",
       "  0.063,\n",
       "  0.2099,\n",
       "  0.0303,\n",
       "  0.1648,\n",
       "  0.1004]}"
      ]
     },
     "execution_count": 13,
     "metadata": {},
     "output_type": "execute_result"
    }
   ],
   "source": [
    "result"
   ]
  },
  {
   "cell_type": "code",
   "execution_count": 15,
   "metadata": {
    "collapsed": true
   },
   "outputs": [],
   "source": [
    "import pickle\n",
    "with open('./output/result_MNIST_dict.pkl', 'wb') as file:\n",
    "    pickle.dump(result, file)"
   ]
  }
 ],
 "metadata": {
  "kernelspec": {
   "display_name": "Python 3",
   "language": "python",
   "name": "python3"
  },
  "language_info": {
   "codemirror_mode": {
    "name": "ipython",
    "version": 3
   },
   "file_extension": ".py",
   "mimetype": "text/x-python",
   "name": "python",
   "nbconvert_exporter": "python",
   "pygments_lexer": "ipython3",
   "version": "3.6.3"
  }
 },
 "nbformat": 4,
 "nbformat_minor": 2
}

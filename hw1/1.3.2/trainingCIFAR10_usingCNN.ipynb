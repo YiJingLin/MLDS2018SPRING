{
 "cells": [
  {
   "cell_type": "markdown",
   "metadata": {},
   "source": [
    "## target\n",
    "task : img classification\n",
    "\n",
    "data : CIFAR10"
   ]
  },
  {
   "cell_type": "code",
   "execution_count": null,
   "metadata": {
    "collapsed": true
   },
   "outputs": [],
   "source": [
    "import torch\n",
    "import torch.nn as nn\n",
    "from torch.autograd import Variable\n",
    "import torch.utils.data as Data\n",
    "import torchvision\n",
    "import torchvision.transforms as transforms\n",
    "\n",
    "import matplotlib.pyplot as plt\n",
    "\n",
    "import numpy as np"
   ]
  },
  {
   "cell_type": "code",
   "execution_count": null,
   "metadata": {
    "collapsed": true
   },
   "outputs": [],
   "source": [
    "# Hyper parameters\n",
    "EPOCH = 1\n",
    "BATCH_SIZE = 100\n",
    "LR = 0.01\n",
    "DOWNLOAD_CIFAR10 = False # 請求下載"
   ]
  },
  {
   "cell_type": "code",
   "execution_count": null,
   "metadata": {},
   "outputs": [],
   "source": [
    "### load cifar image\n",
    "\n",
    "transform = transforms.Compose(\n",
    "    [transforms.ToTensor(),\n",
    "     transforms.Normalize((0.5, 0.5, 0.5), (0.5, 0.5, 0.5))])\n",
    "\n",
    "trainset = torchvision.datasets.CIFAR10(root='./cifar10', train=True,\n",
    "                                        download=DOWNLOAD_CIFAR10, transform=transform)\n",
    "trainloader = torch.utils.data.DataLoader(trainset, batch_size=BATCH_SIZE,\n",
    "                                          shuffle=True, num_workers=2)\n",
    "\n",
    "testset = torchvision.datasets.CIFAR10(root='./cifar10', train=False,\n",
    "                                       download=DOWNLOAD_CIFAR10, transform=transform)\n",
    "testloader = torch.utils.data.DataLoader(testset, batch_size=4,\n",
    "                                         shuffle=False, num_workers=2)\n",
    "\n",
    "classes = ('plane', 'car', 'bird', 'cat',\n",
    "           'deer', 'dog', 'frog', 'horse', 'ship', 'truck')"
   ]
  },
  {
   "cell_type": "code",
   "execution_count": null,
   "metadata": {},
   "outputs": [],
   "source": [
    "print('trainset traindata type', type(trainset.train_data))\n",
    "print('trainset traindata shape', trainset.train_data.shape)\n",
    "print('------------------')\n",
    "print('trainset trainlabel type', type(trainset.train_labels))\n",
    "print('trainset trainlabel shape', len(trainset.train_labels))"
   ]
  },
  {
   "cell_type": "code",
   "execution_count": null,
   "metadata": {},
   "outputs": [],
   "source": [
    "print('testset testdata type', type(testset.test_data))\n",
    "print('testset testdata shape', testset.test_data.shape)\n",
    "print('------------------')\n",
    "print('testset testdata type', type(testset.test_labels))\n",
    "print('testset testdata shape', len(testset.test_labels))"
   ]
  },
  {
   "cell_type": "code",
   "execution_count": null,
   "metadata": {},
   "outputs": [],
   "source": [
    "### show some img data, only work when trainloader has been declare\n",
    "\n",
    "import matplotlib.pyplot as plt\n",
    "import numpy as np\n",
    "\n",
    "# functions to show an image\n",
    "\n",
    "\n",
    "def imshow(img):\n",
    "    img = img / 2 + 0.5     # unnormalize\n",
    "    npimg = img.numpy()\n",
    "    plt.imshow(np.transpose(npimg, (1, 2, 0)))\n",
    "\n",
    "\n",
    "# get some random training images\n",
    "dataiter = iter(trainloader)\n",
    "images, labels = dataiter.next()\n",
    "\n",
    "# show images\n",
    "imshow(torchvision.utils.make_grid(images))\n",
    "# print labels\n",
    "print(' '.join('%5s' % classes[labels[j]] for j in range(4)))\n",
    "plt.show()"
   ]
  },
  {
   "cell_type": "markdown",
   "metadata": {},
   "source": [
    "## build CNN"
   ]
  },
  {
   "cell_type": "code",
   "execution_count": null,
   "metadata": {
    "collapsed": true
   },
   "outputs": [],
   "source": [
    "class CNN(nn.Module):\n",
    "    def __init__(self, n_conv1_filter, n_conv2_filter):\n",
    "        super(CNN, self).__init__()\n",
    "        self.conv1 = nn.Sequential(# input size(3, 32, 32)\n",
    "            nn.Conv2d( \n",
    "                in_channels = 3, # RGB\n",
    "                out_channels = n_conv1_filter, # num_filter\n",
    "                kernel_size=5, # filter's height and width = 5\n",
    "                stride=1, # shift 1 distance each time\n",
    "                padding=2, # if stride=1, padding=(kernel_size-1)/2, filled with zero\n",
    "            ),# -->(16, 32, 32)\n",
    "            nn.ReLU(),# -->(16, 32, 32)\n",
    "            nn.MaxPool2d(kernel_size=2,),# -->(16, 16, 16)\n",
    "        )\n",
    "        self.conv2 = nn.Sequential(# input size(16, 16, 16)\n",
    "            nn.Conv2d(n_conv1_filter, n_conv2_filter, 5, 1, 2), #(in, out, kernel, strid, padding) # -->(32, 16, 16)\n",
    "            nn.ReLU(),# -->(32, 16, 16)\n",
    "            nn.MaxPool2d(2), # -->(32, 8, 8)\n",
    "        )\n",
    "        self.out = nn.Linear(n_conv2_filter * 8 * 8 , 10) # 10 class\n",
    "        \n",
    "    def forward(self, x):\n",
    "        x = self.conv1(x)\n",
    "        x = self.conv2(x) # (batch, 32, 7, 7)\n",
    "        x = x.view(x.size(0), -1) #(batch, 32*7*7)\n",
    "        output = self.out(x)\n",
    "        return output"
   ]
  },
  {
   "cell_type": "code",
   "execution_count": null,
   "metadata": {
    "collapsed": true
   },
   "outputs": [],
   "source": [
    "result = {}\n",
    "\n",
    "result['param_num'] = []\n",
    "result['train_acc'] = []\n",
    "result['test_acc'] = []\n",
    "result['train_loss'] = []\n",
    "result['test_loss'] = []"
   ]
  },
  {
   "cell_type": "code",
   "execution_count": null,
   "metadata": {},
   "outputs": [],
   "source": [
    "# training and validate 20 different model\n",
    "\n",
    "for itr in range(1, 21, 1):\n",
    "\n",
    "    num_filter = itr * 2 + 4\n",
    "    \n",
    "    # declare CNN model with num_filter\n",
    "    cnn=CNN(n_conv1_filter = num_filter, n_conv2_filter = (num_filter*2))\n",
    "#     print(cnn)\n",
    "\n",
    "    # count parameters number\n",
    "    param_num = 0\n",
    "\n",
    "    for parameter in cnn.parameters(): # find each layer's parameter tensor\n",
    "        param_each_layer = 1\n",
    "        for dim in list(parameter.size()): # calculate parameter number\n",
    "            param_each_layer *=dim\n",
    "\n",
    "        param_num += param_each_layer # sum\n",
    "\n",
    "    print('itr %d | param_num %d'% (itr, param_num)) # finally get number of parameters\n",
    "    \n",
    "    def training():\n",
    "        optimizer = torch.optim.Adam(cnn.parameters(), lr=LR)\n",
    "        loss_func = nn.CrossEntropyLoss()\n",
    "\n",
    "        for epoch in range(EPOCH):\n",
    "            for step, (x, y) in enumerate(trainloader):\n",
    "#                 print(type(x),' | ' , type(y))\n",
    "                b_x = Variable(x, requires_grad=True) # batch x\n",
    "                b_y = Variable(y) # batch y\n",
    "\n",
    "                output = cnn(b_x)\n",
    "                loss = loss_func(output, b_y)\n",
    "                optimizer.zero_grad()\n",
    "                loss.backward()\n",
    "                optimizer.step()\n",
    "                break\n",
    "                \n",
    "#########################################################                        \n",
    "    \n",
    "        ### train\n",
    "#         train_loss\n",
    "        train_loss = loss.data[0]\n",
    "        # train_acc\n",
    "        correct = 0\n",
    "        total = 0\n",
    "        \n",
    "        train_x = None\n",
    "        train_y = None\n",
    "        \n",
    "        for itr, data in enumerate(trainloader):\n",
    "            images, labels = data\n",
    "            if itr==0:\n",
    "                train_x = images\n",
    "                train_y = labels\n",
    "            else:\n",
    "                train_x = torch.cat((train_x, images), dim=0)\n",
    "                train_y = torch.cat((train_y, labels), dim=0)\n",
    "        print('train_x shape', train_x.size(), ' | train_y shape', train_y.size())\n",
    "        outputs = cnn(Variable(train_x))\n",
    "        _, predicted = torch.max(outputs.data, 1)\n",
    "        total = train_x.size(0)\n",
    "        correct = (predicted == labels).sum()\n",
    "        train_acc = correct / total\n",
    "        \n",
    "        ### test\n",
    "#         test_x = Variable(torch.from_numpy(testset.train))\n",
    "#         print(test_x.shape)\n",
    "#         test_pred = cnn.forward(test_x)\n",
    "#         # test_loss\n",
    "#         test_loss = loss_func(test_pred, Variable(test_y)).data[0]\n",
    "#         # test_acc\n",
    "\n",
    "#         correct = 0\n",
    "#         total = 0\n",
    "\n",
    "#         for i, data in enumerate(testloader4eval):\n",
    "#             images, labels = data\n",
    "#             print(i, ' | ', images.shape)\n",
    "#             outputs = cnn(Variable(images))\n",
    "#             _, predicted = torch.max(outputs.data, 1)\n",
    "#             total += labels.size(0)\n",
    "#             correct += (predicted == labels).sum()\n",
    "#         test_acc = correct / total\n",
    "    \n",
    "#########################################################        \n",
    "\n",
    "        ### record\n",
    "        result['param_num'].append(round(param_num, 4))\n",
    "        result['train_acc'].append(round(train_acc, 4))\n",
    "#         result['test_acc'].append(round(test_acc, 4))\n",
    "        result['train_loss'].append(round(train_loss, 4))\n",
    "#         result['test_loss'].append(round(test_loss, 4))\n",
    "        \n",
    "        ### print\n",
    "        print(\n",
    "            'train_acc : %.4f' % train_acc,\n",
    "#             '\\t test_acc : %.4f' % test_acc,\n",
    "            '\\t train_loss : %.4f' % train_loss,\n",
    "#             '\\t test_loss : %.4f' % test_loss,\n",
    "        )\n",
    "        \n",
    "#         del cnn\n",
    "        \n",
    "    training()"
   ]
  },
  {
   "cell_type": "code",
   "execution_count": null,
   "metadata": {},
   "outputs": [],
   "source": [
    "a = torch.FloatTensor([[1,2,3], [4,5,5]])\n",
    "print(a.size())\n",
    "print(a.shape)"
   ]
  },
  {
   "cell_type": "code",
   "execution_count": null,
   "metadata": {
    "collapsed": true
   },
   "outputs": [],
   "source": [
    "trainloader."
   ]
  }
 ],
 "metadata": {
  "kernelspec": {
   "display_name": "Python 3",
   "language": "python",
   "name": "python3"
  },
  "language_info": {
   "codemirror_mode": {
    "name": "ipython",
    "version": 3
   },
   "file_extension": ".py",
   "mimetype": "text/x-python",
   "name": "python",
   "nbconvert_exporter": "python",
   "pygments_lexer": "ipython3",
   "version": "3.6.4"
  }
 },
 "nbformat": 4,
 "nbformat_minor": 2
}

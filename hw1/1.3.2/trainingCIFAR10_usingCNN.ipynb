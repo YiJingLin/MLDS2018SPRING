{
 "cells": [
  {
   "cell_type": "markdown",
   "metadata": {},
   "source": [
    "## target\n",
    "task : img classification\n",
    "\n",
    "data : CIFAR10"
   ]
  },
  {
   "cell_type": "code",
   "execution_count": 1,
   "metadata": {
    "collapsed": true
   },
   "outputs": [],
   "source": [
    "import torch\n",
    "import torch.nn as nn\n",
    "from torch.autograd import Variable\n",
    "import torch.utils.data as Data\n",
    "import torchvision\n",
    "import torchvision.transforms as transforms\n",
    "\n",
    "import matplotlib.pyplot as plt\n",
    "\n",
    "import numpy as np"
   ]
  },
  {
   "cell_type": "code",
   "execution_count": 2,
   "metadata": {
    "collapsed": true
   },
   "outputs": [],
   "source": [
    "# Hyper parameters\n",
    "EPOCH = 1\n",
    "BATCH_SIZE = 100\n",
    "LR = 0.01\n",
    "DOWNLOAD_CIFAR10 = False # 請求下載"
   ]
  },
  {
   "cell_type": "code",
   "execution_count": 3,
   "metadata": {},
   "outputs": [],
   "source": [
    "### load cifar image\n",
    "\n",
    "transform = transforms.Compose(\n",
    "    [transforms.ToTensor(),\n",
    "     transforms.Normalize((0.5, 0.5, 0.5), (0.5, 0.5, 0.5))])\n",
    "\n",
    "trainset = torchvision.datasets.CIFAR10(root='./cifar10', train=True,\n",
    "                                        download=DOWNLOAD_CIFAR10, transform=transform)\n",
    "trainloader = torch.utils.data.DataLoader(trainset, batch_size=4,\n",
    "                                          shuffle=True, num_workers=2)\n",
    "\n",
    "testset = torchvision.datasets.CIFAR10(root='./cifar10', train=False,\n",
    "                                       download=DOWNLOAD_CIFAR10, transform=transform)\n",
    "testloader = torch.utils.data.DataLoader(testset, batch_size=4,\n",
    "                                         shuffle=False, num_workers=2)\n",
    "\n",
    "classes = ('plane', 'car', 'bird', 'cat',\n",
    "           'deer', 'dog', 'frog', 'horse', 'ship', 'truck')"
   ]
  },
  {
   "cell_type": "code",
   "execution_count": 15,
   "metadata": {},
   "outputs": [
    {
     "data": {
      "text/plain": [
       "numpy.ndarray"
      ]
     },
     "execution_count": 15,
     "metadata": {},
     "output_type": "execute_result"
    }
   ],
   "source": [
    "type(trainloader.dataset.train_data)"
   ]
  },
  {
   "cell_type": "code",
   "execution_count": 4,
   "metadata": {},
   "outputs": [
    {
     "data": {
      "text/plain": [
       "(50000, 32, 32, 3)"
      ]
     },
     "execution_count": 4,
     "metadata": {},
     "output_type": "execute_result"
    }
   ],
   "source": [
    "trainset.train_data.shape"
   ]
  },
  {
   "cell_type": "code",
   "execution_count": 5,
   "metadata": {},
   "outputs": [
    {
     "name": "stdout",
     "output_type": "stream",
     "text": [
      " ship  frog  bird   cat\n"
     ]
    },
    {
     "data": {
      "image/png": "[encoded data removed]",
      "text/plain": [
       "<matplotlib.figure.Figure at 0x7fbb63bf8e10>"
      ]
     },
     "metadata": {},
     "output_type": "display_data"
    },
    {
     "name": "stderr",
     "output_type": "stream",
     "text": [
      "Process Process-2:\n",
      "  File \"/home/team106/anaconda3/lib/python3.6/multiprocessing/process.py\", line 258, in _bootstrap\n",
      "    self.run()\n",
      "Process Process-1:\n",
      "Traceback (most recent call last):\n",
      "Traceback (most recent call last):\n",
      "  File \"/home/team106/anaconda3/lib/python3.6/multiprocessing/process.py\", line 258, in _bootstrap\n",
      "    self.run()\n",
      "  File \"/home/team106/anaconda3/lib/python3.6/multiprocessing/process.py\", line 93, in run\n",
      "    self._target(*self._args, **self._kwargs)\n",
      "  File \"/home/team106/anaconda3/lib/python3.6/multiprocessing/process.py\", line 93, in run\n",
      "    self._target(*self._args, **self._kwargs)\n",
      "  File \"/home/team106/anaconda3/lib/python3.6/site-packages/torch/utils/data/dataloader.py\", line 34, in _worker_loop\n",
      "    r = index_queue.get()\n",
      "  File \"/home/team106/anaconda3/lib/python3.6/site-packages/torch/utils/data/dataloader.py\", line 34, in _worker_loop\n",
      "    r = index_queue.get()\n",
      "  File \"/home/team106/anaconda3/lib/python3.6/multiprocessing/queues.py\", line 334, in get\n",
      "    with self._rlock:\n",
      "  File \"/home/team106/anaconda3/lib/python3.6/multiprocessing/queues.py\", line 335, in get\n",
      "    res = self._reader.recv_bytes()\n",
      "  File \"/home/team106/anaconda3/lib/python3.6/multiprocessing/connection.py\", line 216, in recv_bytes\n",
      "    buf = self._recv_bytes(maxlength)\n",
      "  File \"/home/team106/anaconda3/lib/python3.6/multiprocessing/synchronize.py\", line 96, in __enter__\n",
      "    return self._semlock.__enter__()\n",
      "KeyboardInterrupt\n",
      "  File \"/home/team106/anaconda3/lib/python3.6/multiprocessing/connection.py\", line 407, in _recv_bytes\n",
      "    buf = self._recv(4)\n",
      "  File \"/home/team106/anaconda3/lib/python3.6/multiprocessing/connection.py\", line 379, in _recv\n",
      "    chunk = read(handle, remaining)\n",
      "KeyboardInterrupt\n"
     ]
    }
   ],
   "source": [
    "### show some img data\n",
    "\n",
    "import matplotlib.pyplot as plt\n",
    "import numpy as np\n",
    "\n",
    "# functions to show an image\n",
    "\n",
    "\n",
    "def imshow(img):\n",
    "    img = img / 2 + 0.5     # unnormalize\n",
    "    npimg = img.numpy()\n",
    "    plt.imshow(np.transpose(npimg, (1, 2, 0)))\n",
    "\n",
    "\n",
    "# get some random training images\n",
    "dataiter = iter(trainloader)\n",
    "images, labels = dataiter.next()\n",
    "\n",
    "# show images\n",
    "imshow(torchvision.utils.make_grid(images))\n",
    "# print labels\n",
    "print(' '.join('%5s' % classes[labels[j]] for j in range(4)))\n",
    "plt.show()"
   ]
  },
  {
   "cell_type": "markdown",
   "metadata": {},
   "source": [
    "## build CNN"
   ]
  },
  {
   "cell_type": "code",
   "execution_count": 6,
   "metadata": {
    "collapsed": true
   },
   "outputs": [],
   "source": [
    "class CNN(nn.Module):\n",
    "    def __init__(self, n_conv1_filter, n_conv2_filter):\n",
    "        super(CNN, self).__init__()\n",
    "        self.conv1 = nn.Sequential(# input size(3, 32, 32)\n",
    "            nn.Conv2d( \n",
    "                in_channels = 3, # RGB\n",
    "                out_channels = n_conv1_filter, # num_filter\n",
    "                kernel_size=5, # filter's height and width = 5\n",
    "                stride=1, # shift 1 distance each time\n",
    "                padding=2, # if stride=1, padding=(kernel_size-1)/2, filled with zero\n",
    "            ),# -->(16, 32, 32)\n",
    "            nn.ReLU(),# -->(16, 32, 32)\n",
    "            nn.MaxPool2d(kernel_size=2,),# -->(16, 16, 16)\n",
    "        )\n",
    "        self.conv2 = nn.Sequential(# input size(16, 16, 16)\n",
    "            nn.Conv2d(n_conv1_filter, n_conv2_filter, 5, 1, 2), #(in, out, kernel, strid, padding) # -->(32, 16, 16)\n",
    "            nn.ReLU(),# -->(32, 16, 16)\n",
    "            nn.MaxPool2d(2), # -->(32, 8, 8)\n",
    "        )\n",
    "        self.out = nn.Linear(n_conv2_filter * 8 * 8 , 10) # 10 class\n",
    "        \n",
    "    def forward(self, x):\n",
    "        x = self.conv1(x)\n",
    "        x = self.conv2(x) # (batch, 32, 7, 7)\n",
    "        x = x.view(x.size(0), -1) #(batch, 32*7*7)\n",
    "        output = self.out(x)\n",
    "        return output"
   ]
  },
  {
   "cell_type": "code",
   "execution_count": 7,
   "metadata": {
    "collapsed": true
   },
   "outputs": [],
   "source": [
    "result = {}\n",
    "\n",
    "result['param_num'] = []\n",
    "result['train_acc'] = []\n",
    "result['test_acc'] = []\n",
    "result['train_loss'] = []\n",
    "result['test_loss'] = []"
   ]
  },
  {
   "cell_type": "code",
   "execution_count": 16,
   "metadata": {},
   "outputs": [
    {
     "name": "stdout",
     "output_type": "stream",
     "text": [
      "itr 1 | param_num 9958\n"
     ]
    },
    {
     "ename": "NameError",
     "evalue": "name 'net' is not defined",
     "output_type": "error",
     "traceback": [
      "\u001b[0;31m---------------------------------------------------------------------------\u001b[0m",
      "\u001b[0;31mNameError\u001b[0m                                 Traceback (most recent call last)",
      "\u001b[0;32m<ipython-input-16-d3d35fcb875a>\u001b[0m in \u001b[0;36m<module>\u001b[0;34m()\u001b[0m\n\u001b[1;32m     87\u001b[0m \u001b[0;31m#         del cnn\u001b[0m\u001b[0;34m\u001b[0m\u001b[0;34m\u001b[0m\u001b[0m\n\u001b[1;32m     88\u001b[0m \u001b[0;34m\u001b[0m\u001b[0m\n\u001b[0;32m---> 89\u001b[0;31m     \u001b[0mtraining\u001b[0m\u001b[0;34m(\u001b[0m\u001b[0;34m)\u001b[0m\u001b[0;34m\u001b[0m\u001b[0m\n\u001b[0m",
      "\u001b[0;32m<ipython-input-16-d3d35fcb875a>\u001b[0m in \u001b[0;36mtraining\u001b[0;34m()\u001b[0m\n\u001b[1;32m     61\u001b[0m         \u001b[0;32mfor\u001b[0m \u001b[0mdata\u001b[0m \u001b[0;32min\u001b[0m \u001b[0mtestloader\u001b[0m\u001b[0;34m:\u001b[0m\u001b[0;34m\u001b[0m\u001b[0m\n\u001b[1;32m     62\u001b[0m             \u001b[0mimages\u001b[0m\u001b[0;34m,\u001b[0m \u001b[0mlabels\u001b[0m \u001b[0;34m=\u001b[0m \u001b[0mdata\u001b[0m\u001b[0;34m\u001b[0m\u001b[0m\n\u001b[0;32m---> 63\u001b[0;31m             \u001b[0moutputs\u001b[0m \u001b[0;34m=\u001b[0m \u001b[0mnet\u001b[0m\u001b[0;34m(\u001b[0m\u001b[0mVariable\u001b[0m\u001b[0;34m(\u001b[0m\u001b[0mimages\u001b[0m\u001b[0;34m)\u001b[0m\u001b[0;34m)\u001b[0m\u001b[0;34m\u001b[0m\u001b[0m\n\u001b[0m\u001b[1;32m     64\u001b[0m             \u001b[0m_\u001b[0m\u001b[0;34m,\u001b[0m \u001b[0mpredicted\u001b[0m \u001b[0;34m=\u001b[0m \u001b[0mtorch\u001b[0m\u001b[0;34m.\u001b[0m\u001b[0mmax\u001b[0m\u001b[0;34m(\u001b[0m\u001b[0moutputs\u001b[0m\u001b[0;34m.\u001b[0m\u001b[0mdata\u001b[0m\u001b[0;34m,\u001b[0m \u001b[0;36m1\u001b[0m\u001b[0;34m)\u001b[0m\u001b[0;34m\u001b[0m\u001b[0m\n\u001b[1;32m     65\u001b[0m             \u001b[0mtotal\u001b[0m \u001b[0;34m+=\u001b[0m \u001b[0mlabels\u001b[0m\u001b[0;34m.\u001b[0m\u001b[0msize\u001b[0m\u001b[0;34m(\u001b[0m\u001b[0;36m0\u001b[0m\u001b[0;34m)\u001b[0m\u001b[0;34m\u001b[0m\u001b[0m\n",
      "\u001b[0;31mNameError\u001b[0m: name 'net' is not defined"
     ]
    }
   ],
   "source": [
    "# training and validate 20 different model\n",
    "\n",
    "for itr in range(1, 21, 1):\n",
    "\n",
    "    num_filter = itr * 2 + 4\n",
    "    \n",
    "    # declare CNN model with num_filter\n",
    "    cnn=CNN(n_conv1_filter = num_filter, n_conv2_filter = (num_filter*2))\n",
    "#     print(cnn)\n",
    "\n",
    "    # count parameters number\n",
    "    param_num = 0\n",
    "\n",
    "    for parameter in cnn.parameters(): # find each layer's parameter tensor\n",
    "        param_each_layer = 1\n",
    "        for dim in list(parameter.size()): # calculate parameter number\n",
    "            param_each_layer *=dim\n",
    "\n",
    "        param_num += param_each_layer # sum\n",
    "\n",
    "    print('itr %d | param_num %d'% (itr, param_num)) # finally get number of parameters\n",
    "    \n",
    "    def training():\n",
    "        optimizer = torch.optim.Adam(cnn.parameters(), lr=LR)\n",
    "        loss_func = nn.CrossEntropyLoss()\n",
    "\n",
    "        for epoch in range(EPOCH):\n",
    "            for step, (x, y) in enumerate(trainloader):\n",
    "#                 print(type(x),' | ' , type(y))\n",
    "                b_x = Variable(x, requires_grad=True) # batch x\n",
    "                b_y = Variable(y) # batch y\n",
    "\n",
    "                output = cnn(b_x)\n",
    "                loss = loss_func(output, b_y)\n",
    "                optimizer.zero_grad()\n",
    "                loss.backward()\n",
    "                optimizer.step()\n",
    "\n",
    "#         ### train\n",
    "#         # train_loss\n",
    "#         train_loss = loss.data[0]\n",
    "#         # train_acc\n",
    "#         train_x = Variable(torch.from_numpy(trainloader.dataset.train_data))\n",
    "#         train_prediction = cnn.forward(train_x)\n",
    "#         train_pred = torch.max(train_prediction, 1)[1].data.squeeze()\n",
    "#         train_y = train_data.train_labels\n",
    "#         train_acc = sum(train_pred ==train_y)/ train_y.size(0)\n",
    "\n",
    "#         ### test\n",
    "#         test_pred = cnn.forward(test_x)\n",
    "\n",
    "#         # test_loss\n",
    "#         test_loss = loss_func(test_pred, Variable(test_y)).data[0]\n",
    "#         # test_acc\n",
    "#         test_pred = torch.max(test_pred, 1)[1].data.squeeze()\n",
    "#         test_acc = sum(test_pred ==test_y)/ test_y.size(0)\n",
    "        \n",
    "        \n",
    "        correct = 0\n",
    "        total = 0\n",
    "        for data in testloader:\n",
    "            images, labels = data\n",
    "            outputs = net(Variable(images))\n",
    "            _, predicted = torch.max(outputs.data, 1)\n",
    "            total += labels.size(0)\n",
    "            correct += (predicted == labels).sum()\n",
    "\n",
    "        print('Accuracy of the network on the 10000 test images: %d %%' % (\n",
    "            100 * correct / total))\n",
    "    \n",
    "        \n",
    "        ### record\n",
    "        result['param_num'].append(round(param_num, 4))\n",
    "        result['train_acc'].append(round(train_acc, 4))\n",
    "        result['test_acc'].append(round(test_acc, 4))\n",
    "        result['train_loss'].append(round(train_loss, 4))\n",
    "        result['test_loss'].append(round(test_loss, 4))\n",
    "        \n",
    "        ### print\n",
    "        print(\n",
    "            'train_acc : %.4f' % train_acc,\n",
    "            '\\t test_acc : %.4f' % test_acc,\n",
    "            '\\t train_loss : %.4f' % train_loss,\n",
    "            '\\t test_loss : %.4f' % test_loss,\n",
    "        )\n",
    "        \n",
    "#         del cnn\n",
    "        \n",
    "    training()"
   ]
  }
 ],
 "metadata": {
  "kernelspec": {
   "display_name": "Python 3",
   "language": "python",
   "name": "python3"
  },
  "language_info": {
   "codemirror_mode": {
    "name": "ipython",
    "version": 3
   },
   "file_extension": ".py",
   "mimetype": "text/x-python",
   "name": "python",
   "nbconvert_exporter": "python",
   "pygments_lexer": "ipython3",
   "version": "3.6.3"
  }
 },
 "nbformat": 4,
 "nbformat_minor": 2
}
